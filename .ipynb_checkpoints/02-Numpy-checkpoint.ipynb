{
 "cells": [
  {
   "cell_type": "markdown",
   "metadata": {},
   "source": [
    "# 2. Numpy Package\n",
    "\n",
    "    คือ Package พื้นฐานสำหรับการคำนวณด้านวิทยาศาสตร์ โดยมีฟังก์ชันเกี่ยวกับคณิตศาสตร์ สามารถคำนวณชุดข้อมูล Array ที่มีขนาดใหญ่และซับซ้อนได้\n",
    "    \n",
    "                                                                                    Data Science ง่าย . . by New ew ew"
   ]
  },
  {
   "cell_type": "code",
   "execution_count": null,
   "metadata": {},
   "outputs": [],
   "source": [
    "!pip install numpy"
   ]
  },
  {
   "cell_type": "markdown",
   "metadata": {},
   "source": [
    "## 1) Numpy Array"
   ]
  },
  {
   "cell_type": "code",
   "execution_count": null,
   "metadata": {},
   "outputs": [],
   "source": [
    "# Create numpy array\n",
    "import numpy as np\n",
    "\n",
    "oneDim = np.array([1.0,2,3,4,5])   # a 1-dimensional array (vector)\n",
    "print(\"oneDim : \",oneDim)\n",
    "print(\"#Dimensions =\", oneDim.ndim)\n",
    "print(\"Dimension =\", oneDim.shape)\n",
    "print(\"Size =\", oneDim.size)\n",
    "print(\"Array type =\", oneDim.dtype)\n",
    "\n",
    "twoDim = np.array([[1,2],[3,4],[5,6],[7,8]])  # a two-dimensional array (matrix)\n",
    "print(\"twoDim : \",twoDim)\n",
    "print(\"#Dimensions =\", twoDim.ndim)\n",
    "print(\"Dimension =\", twoDim.shape)\n",
    "print(\"Size =\", twoDim.size)\n",
    "print(\"Array type =\", twoDim.dtype)\n",
    "\n",
    "arrFromTuple = np.array([(1,'a',3.0),(2,'b',3.5)])  # create ndarray from tuple\n",
    "print(\"arrFromTuple : \",arrFromTuple)\n",
    "print(\"#Dimensions =\", arrFromTuple.ndim)\n",
    "print(\"Dimension =\", arrFromTuple.shape)\n",
    "print(\"Size =\", arrFromTuple.size)"
   ]
  },
  {
   "cell_type": "code",
   "execution_count": null,
   "metadata": {},
   "outputs": [],
   "source": [
    "print(\"np.random.rand(5) : \",np.random.rand(5))      # random numbers from a uniform distribution between [0,1]\n",
    "print(\"np.random.randn(5) : \",np.random.randn(5))     # random numbers from a normal distribution\n",
    "print(\"np.arange(-10,10,2) : \",np.arange(-10,10,2))    # similar to range, but returns ndarray instead of list\n",
    "print(\"np.arange(12).reshape(3,4) : \",np.arange(12).reshape(3,4))  # reshape to a matrix\n",
    "print(\"np.linspace(0,1,10) : \",np.linspace(0,1,10))    # split interval [0,1] into 10 equally separated values\n",
    "print(\"np.logspace(-3,3,7) : \",np.logspace(-3,3,7))    # create ndarray with values from 10^-3 to 10^3"
   ]
  },
  {
   "cell_type": "code",
   "execution_count": null,
   "metadata": {},
   "outputs": [],
   "source": [
    "print(\"np.zeros((2,3)) : \",np.zeros((2,3)))        # a matrix of zeros\n",
    "print(\"np.ones((3,2)) : \",np.ones((3,2)))         # a matrix of ones\n",
    "print(\"np.eye(3) : \",np.eye(3))              # a 3 x 3 identity matrix"
   ]
  },
  {
   "cell_type": "markdown",
   "metadata": {},
   "source": [
    "## 2) Element-wise Operations"
   ]
  },
  {
   "cell_type": "code",
   "execution_count": null,
   "metadata": {},
   "outputs": [],
   "source": [
    "x = np.array([1,2,3,4,5])\n",
    "\n",
    "print(\"x + 1 : \",x + 1)      # addition\n",
    "print(\"x - 1 : \",x - 1)      # subtraction\n",
    "print(\"x * 2 : \",x * 2)      # multiplication\n",
    "print(\"1 / x : \",1 / x)      # division\n",
    "print(\"x // 2 : \",x // 2)     # integer division\n",
    "print(\"x ** 2 : \",x ** 2)     # square\n",
    "print(\"x % 2 : \",x % 2)      # modulo  "
   ]
  },
  {
   "cell_type": "code",
   "execution_count": null,
   "metadata": {},
   "outputs": [],
   "source": [
    "x = np.array([2,4,6,8,10])\n",
    "y = np.array([1,2,3,4,5])\n",
    "\n",
    "print(\"x + y : \",x + y)\n",
    "print(\"x - y : \",x - y)\n",
    "print(\"x * y : \",x * y)\n",
    "print(\"x / y : \",x / y)\n",
    "print(\"x // y : \",x // y)\n",
    "print(\"x ** y : \",x ** y)"
   ]
  },
  {
   "cell_type": "markdown",
   "metadata": {},
   "source": [
    "## 3) Indexing and Slicing"
   ]
  },
  {
   "cell_type": "code",
   "execution_count": null,
   "metadata": {},
   "outputs": [],
   "source": [
    "# Indexing : Select certain elements\n",
    "x = np.arange(-5,5)\n",
    "print(\"x : \",x)\n",
    "\n",
    "y = x[3:5]     # y is a slice, i.e., pointer to a subarray in x\n",
    "print(\"y : \",y)\n",
    "y[:] = 1000    # modifying the value of y will change x\n",
    "print(\"y : \",y)\n",
    "print(\"x : \",x)\n",
    "\n",
    "z = x[3:5].copy()   # makes a copy of the subarray\n",
    "print(\"z : \",z)\n",
    "z[:] = 500          # modifying the value of z will not affect x\n",
    "print(\"z : \",z)\n",
    "print(\"x : \",x)"
   ]
  },
  {
   "cell_type": "code",
   "execution_count": null,
   "metadata": {},
   "outputs": [],
   "source": [
    "my2dlist = [[1,2,3,4],[5,6,7,8],[9,10,11,12]]   # a 2-dim list\n",
    "print(\"my2dlist       : \",my2dlist)\n",
    "print(\"my2dlist[2]    : \",my2dlist[2])        # access the third sublist\n",
    "print(\"my2dlist[:][2] : \",my2dlist[:][2])     # can't access third element of each sublist\n",
    "#print(my2dlist[:,2])    # this will cause syntax error\n",
    "\n",
    "my2darr = np.array(my2dlist)\n",
    "print(\"my2darr       : \",my2darr)\n",
    "print(\"my2darr[2][:] : \",my2darr[2][:])      # access the third row\n",
    "print(\"my2darr[2,:]  : \",my2darr[2,:])       # access the third row\n",
    "print(\"my2darr[:][2] : \",my2darr[:][2])      # access the third row (similar to 2d list)\n",
    "print(\"my2darr[:,2]  : \",my2darr[:,2])       # access the third column\n",
    "print(\"my2darr[:2,2:]: \",my2darr[:2,2:])     # access the first two rows & last two columns"
   ]
  },
  {
   "cell_type": "code",
   "execution_count": null,
   "metadata": {},
   "outputs": [],
   "source": [
    "my2darr = np.arange(1,13,1).reshape(3,4)\n",
    "print(\"my2darr : \",my2darr)\n",
    "\n",
    "divBy3 = my2darr[my2darr % 3 == 0]\n",
    "print(\"divBy3        : \",divBy3)\n",
    "print(\"type(divBy3)  : \",type(divBy3))\n",
    "\n",
    "divBy3LastRow = my2darr[2:, my2darr[2,:] % 3 == 0]\n",
    "print(\"divBy3LastRow : \",divBy3LastRow)"
   ]
  },
  {
   "cell_type": "code",
   "execution_count": null,
   "metadata": {},
   "outputs": [],
   "source": [
    "my2darr = np.arange(1,13,1).reshape(4,3)\n",
    "print(\"my2darr : \",my2darr)\n",
    "\n",
    "indices = [2,1,0,3]    # selected row indices\n",
    "print(\"my2darr[indices,:] : \",my2darr[indices,:])\n",
    "\n",
    "rowIndex = [0,0,1,2,3]     # row index into my2darr\n",
    "columnIndex = [0,2,0,1,2]  # column index into my2darr\n",
    "print(\"my2darr[rowIndex,columnIndex]) : \",my2darr[rowIndex,columnIndex])"
   ]
  },
  {
   "cell_type": "markdown",
   "metadata": {},
   "source": [
    "## 4) Arithmetic and Statistical Functions"
   ]
  },
  {
   "cell_type": "code",
   "execution_count": null,
   "metadata": {},
   "outputs": [],
   "source": [
    "# Build-in mathematical functions\n",
    "y = np.array([-1.4, 0.4, -3.2, 2.5, 3.4])    # generate a random vector\n",
    "print(\"y : \",y)\n",
    "\n",
    "print(\"np.abs(y)       : \",np.abs(y))          # convert to absolute values\n",
    "print(\"np.sqrt(abs(y)) : \",np.sqrt(abs(y)))    # apply square root to each element\n",
    "print(\"np.sign(y)      : \",np.sign(y))         # get the sign of each element\n",
    "print(\"np.exp(y)       : \",np.exp(y))          # apply exponentiation\n",
    "print(\"np.sort(y)      : \",np.sort(y))         # sort array"
   ]
  },
  {
   "cell_type": "code",
   "execution_count": null,
   "metadata": {},
   "outputs": [],
   "source": [
    "x = np.arange(-2,3)\n",
    "y = np.random.randn(5)\n",
    "print(\"x : \",x)\n",
    "print(\"y : \",y)\n",
    "\n",
    "print(\"np.add(x,y) : \",np.add(x,y))           # element-wise addition       x + y\n",
    "print(\"np.subtract(x,y) : \",np.subtract(x,y))      # element-wise subtraction    x - y\n",
    "print(\"np.multiply(x,y) : \",np.multiply(x,y))      # element-wise multiplication x * y\n",
    "print(\"np.divide(x,y)   : \",np.divide(x,y))        # element-wise division       x / y\n",
    "print(\"np.maximum(x,y)  : \",np.maximum(x,y))       # element-wise maximum        max(x,y)"
   ]
  },
  {
   "cell_type": "code",
   "execution_count": null,
   "metadata": {},
   "outputs": [],
   "source": [
    "y = np.array([-3.2, -1.4, 0.4, 2.5, 3.4])    # generate a random vector\n",
    "print(\"y : \",y)\n",
    "\n",
    "print(\"Min =\", np.min(y))             # min \n",
    "print(\"Max =\", np.max(y))             # max \n",
    "print(\"Average =\", np.mean(y))        # mean/average\n",
    "print(\"Std deviation =\", np.std(y))   # standard deviation\n",
    "print(\"Sum =\", np.sum(y))             # sum "
   ]
  },
  {
   "cell_type": "markdown",
   "metadata": {},
   "source": [
    "## 5) Linear algebra"
   ]
  },
  {
   "cell_type": "code",
   "execution_count": null,
   "metadata": {},
   "outputs": [],
   "source": [
    "# Linear algebra function\n",
    "X = np.random.randn(2,3)    # create a 2 x 3 random matrix\n",
    "print(\"X   : \",X)\n",
    "print(\"X.T : \",X.T)             # matrix transpose operation X^T\n",
    "\n",
    "y = np.random.randn(3) # random vector \n",
    "print(\"y : \",y)\n",
    "print(\"X.dot(y)   : \",X.dot(y))        # matrix-vector multiplication  X * y\n",
    "print(\"X.dot(X.T) : \",X.dot(X.T))      # matrix-matrix multiplication  X * X^T\n",
    "print(\"X.T.dot(X) : \",X.T.dot(X))      # matrix-matrix multiplication  X^T * X"
   ]
  },
  {
   "cell_type": "code",
   "execution_count": null,
   "metadata": {},
   "outputs": [],
   "source": [
    "X = np.random.randn(5,3)\n",
    "print(\"X : \",X)\n",
    "\n",
    "C = X.T.dot(X)               # C = X^T * X is a square matrix\n",
    "\n",
    "invC = np.linalg.inv(C)      # inverse of a square matrix\n",
    "print(\"invC : \",invC)\n",
    "detC = np.linalg.det(C)      # determinant of a square matrix\n",
    "print(\"detC : \",detC)\n",
    "S, U = np.linalg.eig(C)      # eigenvalue S and eigenvector U of a square matrix\n",
    "print(\"S : \",S)\n",
    "print(\"U : \",U)"
   ]
  },
  {
   "cell_type": "markdown",
   "metadata": {},
   "source": [
    "## 6) Broadcasting"
   ]
  },
  {
   "cell_type": "code",
   "execution_count": null,
   "metadata": {},
   "outputs": [],
   "source": [
    "import numpy as np\n",
    "A = np.array([[0,0,0],[10,10,10],[20,20,20],[30,30,30]])\n",
    "B = np.array([[0,1,2],[0,1,2],[0,1,2],[0,1,2]])\n",
    "print(\"A : \\n\", A)\n",
    "print(str(\"Shape of A = \")+str(A.shape))\n",
    "print(\"B : \\n\", B)\n",
    "print(str(\"Shape of B = \")+str(B.shape))\n",
    "print(\"A+B : \\n\", A+B)\n",
    "print(str(\"Shape of A + B = \")+str((A+B).shape))"
   ]
  },
  {
   "cell_type": "code",
   "execution_count": null,
   "metadata": {},
   "outputs": [],
   "source": [
    "import numpy as np\n",
    "A = np.array([[0,0,0],[10,10,10],[20,20,20],[30,30,30]])\n",
    "B = np.array([0,1,2])\n",
    "print(\"A : \\n\", A)\n",
    "print(str(\"Shape of A = \")+str(A.shape))\n",
    "print(\"B : \\n\", B)\n",
    "print(str(\"Shape of B = \")+str(B.shape))\n",
    "print(\"A+B : \\n\", A+B)\n",
    "print(str(\"Shape of A + B = \")+str((A+B).shape))"
   ]
  },
  {
   "cell_type": "code",
   "execution_count": null,
   "metadata": {
    "scrolled": true
   },
   "outputs": [],
   "source": [
    "import numpy as np\n",
    "A = np.array([[0],[10],[20],[30]])\n",
    "B = np.array([0,1,2])\n",
    "print(\"A : \\n\", A)\n",
    "print(str(\"Shape of A = \")+str(A.shape))\n",
    "print(\"B : \\n\", B)\n",
    "print(str(\"Shape of B = \")+str(B.shape))\n",
    "print(\"A+B : \\n\", A+B)\n",
    "print(str(\"Shape of A + B = \")+str((A+B).shape))"
   ]
  },
  {
   "cell_type": "markdown",
   "metadata": {},
   "source": [
    "## สรุปเนื้อหา\n",
    "\n",
    "1. Numpy Array : np.array([1.0,2,3,4,5])\n",
    "\n",
    "2. Element-wise Operations : +, -, *, /, //, **, %\n",
    "\n",
    "3. Indexing and Slicing : x[3], x[3:5]\n",
    "\n",
    "4. Arithmetic and Statistical : np.abs(x), np.sqrt(x), np.sign(x), np.exp(x), np.sort(x), np.add(x,y), np.subtract(x,y), np.multiply(x,y), np.divide(x,y), np.maximum(x,y), np.min(x), np.max(x),np.mean(), np.std(x), np.sum(x)\n",
    "\n",
    "5. Linear Algebra : X.T, X.dot(x), np.linalg.inv(x), np.linalg.det(x), np.linalg.eig(x)\n",
    "\n",
    "6. Broadcasting"
   ]
  }
 ],
 "metadata": {
  "kernelspec": {
   "display_name": "Python 3",
   "language": "python",
   "name": "python3"
  },
  "language_info": {
   "codemirror_mode": {
    "name": "ipython",
    "version": 3
   },
   "file_extension": ".py",
   "mimetype": "text/x-python",
   "name": "python",
   "nbconvert_exporter": "python",
   "pygments_lexer": "ipython3",
   "version": "3.8.1"
  }
 },
 "nbformat": 4,
 "nbformat_minor": 4
}
