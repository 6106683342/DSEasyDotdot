{
 "cells": [
  {
   "cell_type": "markdown",
   "metadata": {},
   "source": [
    "# 1 : แนะนำภาษา Python (Python Introduction)\n",
    "\n",
    "        Python คือ ภาษาที่ใช้สำหรับทำงานได้ทั่วไป ออกแบบมาให้ใช้งานง่าย โดยใช้ Keyword ภาษาอังกฤษที่เข้าใจง่าย เพื่อให้สะดวกกับผู้เขียนโปรแกรม รวมทั้งมี Library ที่สนับสนุนการทำงานทางด้าน Data Analytic อย่างมากมาย\n",
    "        \n",
    "                                                                                        Data Science ง่าย . . by New ew ew"
   ]
  },
  {
   "cell_type": "markdown",
   "metadata": {},
   "source": [
    "    วิธีการใช้ Jupyter เบื้องต้น\n",
    "\n",
    "    Ctrl + Enter  : Run บรรทัดที่เลือก\n",
    "\n",
    "    Shift + Enter : Run บรรทัดที่เลือก แล้วขยับไปบรรทัดถัดไป\n",
    "\n",
    "    A : เพิ่มบรรทัดว่างด้านบน\n",
    "\n",
    "    B : เพิ่มบรรทัดว่างด้านล่าง\n",
    "\n",
    "    C : Copy บรรทัดที่เลือก\n",
    "\n",
    "    V : Paste บรรทัดที่เลือก\n",
    "    \n",
    "    D + D : Delete บรรรทัดที่เลือก"
   ]
  },
  {
   "cell_type": "code",
   "execution_count": null,
   "metadata": {
    "scrolled": true
   },
   "outputs": [],
   "source": [
    "print(\"Hello, Data Science!\");"
   ]
  },
  {
   "cell_type": "code",
   "execution_count": null,
   "metadata": {},
   "outputs": [],
   "source": [
    "print \"Hello, Data Science"
   ]
  },
  {
   "cell_type": "markdown",
   "metadata": {},
   "source": [
    "## 1) Basic Syntax"
   ]
  },
  {
   "cell_type": "code",
   "execution_count": 1,
   "metadata": {},
   "outputs": [
    {
     "name": "stdout",
     "output_type": "stream",
     "text": [
      "number is equal to 1\n"
     ]
    }
   ],
   "source": [
    "# Lines & Indent\n",
    "number = 1\n",
    "if number==1:\n",
    "    print(\"number is equal to 1\")"
   ]
  },
  {
   "cell_type": "code",
   "execution_count": 3,
   "metadata": {},
   "outputs": [
    {
     "name": "stdout",
     "output_type": "stream",
     "text": [
      "number is equal to 1\n"
     ]
    }
   ],
   "source": [
    "if number==1:\n",
    "    print(\"number is equal to 1\")"
   ]
  },
  {
   "cell_type": "code",
   "execution_count": 4,
   "metadata": {},
   "outputs": [],
   "source": [
    "# Multi-Line Statements\n",
    "number_a = 1\n",
    "number_b = 2\n",
    "number_c = 3"
   ]
  },
  {
   "cell_type": "code",
   "execution_count": 5,
   "metadata": {},
   "outputs": [
    {
     "name": "stdout",
     "output_type": "stream",
     "text": [
      "6\n"
     ]
    }
   ],
   "source": [
    "total_number = number_a + number_b + number_c\n",
    "print(total_number)"
   ]
  },
  {
   "cell_type": "code",
   "execution_count": 6,
   "metadata": {},
   "outputs": [
    {
     "name": "stdout",
     "output_type": "stream",
     "text": [
      "6\n"
     ]
    }
   ],
   "source": [
    "total_number = number_a + \\\n",
    "                number_b + \\\n",
    "                number_c\n",
    "\n",
    "print(total_number)"
   ]
  },
  {
   "cell_type": "code",
   "execution_count": 7,
   "metadata": {},
   "outputs": [
    {
     "name": "stdout",
     "output_type": "stream",
     "text": [
      "[1, 2, 3, 4]\n"
     ]
    }
   ],
   "source": [
    "list_a = [1,2,3,4]\n",
    "print(list_a)"
   ]
  },
  {
   "cell_type": "code",
   "execution_count": 8,
   "metadata": {},
   "outputs": [
    {
     "name": "stdout",
     "output_type": "stream",
     "text": [
      "[1, 2, 3, 4]\n"
     ]
    }
   ],
   "source": [
    "list_a = [1,2,\n",
    "          3,4]\n",
    "print(list_a)"
   ]
  },
  {
   "cell_type": "code",
   "execution_count": 9,
   "metadata": {},
   "outputs": [],
   "source": [
    "# Quotation\n",
    "word = 'word'\n",
    "sentence = \"This is a sentence.\"\n",
    "paragraph = \"\"\"This is a paragraph. It is\n",
    "made up of multiple lines and sentences.\"\"\""
   ]
  },
  {
   "cell_type": "code",
   "execution_count": 10,
   "metadata": {},
   "outputs": [
    {
     "name": "stdout",
     "output_type": "stream",
     "text": [
      "word\n",
      "This is a sentence.\n",
      "This is a paragraph. It is\n",
      "made up of multiple lines and sentences.\n"
     ]
    }
   ],
   "source": [
    "print(word)\n",
    "print(sentence)\n",
    "print(paragraph)"
   ]
  },
  {
   "cell_type": "code",
   "execution_count": 11,
   "metadata": {},
   "outputs": [
    {
     "data": {
      "text/plain": [
       "' This is so longgggg \\nlong long long comment'"
      ]
     },
     "execution_count": 11,
     "metadata": {},
     "output_type": "execute_result"
    }
   ],
   "source": [
    "# Comments\n",
    "\n",
    "# This is comment\n",
    "''' This is so longgggg \n",
    "long long long comment'''"
   ]
  },
  {
   "cell_type": "code",
   "execution_count": 12,
   "metadata": {},
   "outputs": [
    {
     "name": "stdout",
     "output_type": "stream",
     "text": [
      " Hello guys,\n",
      " my name is New ew ew\n"
     ]
    }
   ],
   "source": [
    "# Blank lines\n",
    "\n",
    "print(\" Hello guys,\\n my name is New ew ew\")"
   ]
  },
  {
   "cell_type": "markdown",
   "metadata": {},
   "source": [
    "## 2) Elementary Data Types\n",
    "\n",
    "| &nbsp;  |      Data Type    |   Example   | \n",
    "|:--------|:-----------------:|:------------|\n",
    "|Number   | Integer           | data_int = 2       |\n",
    "| &nbsp;  | Long integer      | data_long = 2**100     | \n",
    "| &nbsp;  | Floating point    | data_float = 3.92   | \n",
    "| &nbsp;  | Boolean           | data_bool = True    |\n",
    "|Text     | Character         | data_char = 'a'     |\n",
    "| &nbsp;  | String            | data_string = \"hello\"|"
   ]
  },
  {
   "cell_type": "code",
   "execution_count": 13,
   "metadata": {},
   "outputs": [
    {
     "name": "stdout",
     "output_type": "stream",
     "text": [
      "data_int    :  2 <class 'int'>\n",
      "data_long   :  1267650600228229401496703205376 <class 'int'>\n",
      "data_float  :  3.92 <class 'float'>\n",
      "data_bool   :  True <class 'bool'>\n",
      "data_char   :  a <class 'str'>\n",
      "data_string :  hello <class 'str'>\n"
     ]
    }
   ],
   "source": [
    "data_int = 2 # Integer\n",
    "print(\"data_int    : \",data_int, type(data_int))\n",
    "\n",
    "data_long = 2**100 # Long integer\n",
    "print(\"data_long   : \",data_long, type(data_long))\n",
    "\n",
    "data_float = 3.92 # Floating point\n",
    "print(\"data_float  : \",data_float, type(data_float))\n",
    "\n",
    "data_bool = True # Boolean\n",
    "print(\"data_bool   : \",data_bool, type(data_bool))\n",
    "\n",
    "data_char = 'a' # Character\n",
    "print(\"data_char   : \",data_char, type(data_char))\n",
    "\n",
    "data_string = \"hello\" # String\n",
    "print(\"data_string : \",data_string, type(data_string))"
   ]
  },
  {
   "cell_type": "code",
   "execution_count": 14,
   "metadata": {},
   "outputs": [
    {
     "name": "stdout",
     "output_type": "stream",
     "text": [
      "x  :  42\n",
      "x1 :  5\n",
      "x2 :  8\n",
      "x3 :  7\n",
      "x4 :  42\n",
      "x5 :  2\n",
      "z  :  2.5\n",
      "z1 :  1.5\n",
      "z2 :  1.25\n",
      "z3 :  1.0\n",
      "z4 :  6.25\n",
      "z5 :  2.5\n",
      "z6 :  6.25\n",
      "z7 :  2\n",
      "z8 :  2\n"
     ]
    }
   ],
   "source": [
    "# Arithmetic Operations\n",
    "x = 2            # integer\n",
    "x1 = x + 3       # addition \n",
    "x2 = x * 4       # multiplication\n",
    "x += 5           # x = x + 5\n",
    "x3 = x       \n",
    "x *= 6           # x = x * 6\n",
    "x4 = x      \n",
    "x5 = x % 4       # modulo (remainder) operator\n",
    "\n",
    "z = 2.5          # floating point number\n",
    "z1 = z - 1      # subtraction\n",
    "z2 = z / 2       # division\n",
    "z3 = z // 2      # integer division\n",
    "z4 = z ** 2      # square of z \n",
    "z5 = z4 ** (0.5)   # square root\n",
    "z6 = pow(z,2)    # equivalent to square of z\n",
    "z7 = round(z)    # rounding z to its nearest integer \n",
    "z8 = int(z)      # type casting float to int\n",
    "\n",
    "print('x  : ',x)\n",
    "print('x1 : ',x1)\n",
    "print('x2 : ',x2)\n",
    "print('x3 : ',x3)\n",
    "print('x4 : ',x4)\n",
    "print('x5 : ',x5)\n",
    "print('z  : ',z)\n",
    "print('z1 : ',z1)\n",
    "print('z2 : ',z2)\n",
    "print('z3 : ',z3)\n",
    "print('z4 : ',z4)\n",
    "print('z5 : ',z5)\n",
    "print('z6 : ',z6)\n",
    "print('z7 : ',z7)\n",
    "print('z8 : ',z8)"
   ]
  },
  {
   "cell_type": "code",
   "execution_count": 15,
   "metadata": {},
   "outputs": [
    {
     "name": "stdout",
     "output_type": "stream",
     "text": [
      "math.sqrt(x)      :  2.23606797749979\n",
      "math.pow(x,2)     :  25.0\n",
      "math.exp(x)       :  148.4131591025766\n",
      "math.log(x,2)     :  2.321928094887362\n",
      "math.fabs(-4)     :  4.0\n",
      "math.factorial(x) :  120\n",
      "math.ceil(z)      :  1\n",
      "math.floor(z)     :  0\n",
      "math.trunc(z)     :  0\n",
      "math.pi           :  3.141592653589793\n",
      "2*math.pi         :  6.283185307179586\n",
      "math.sin(z)       :   -2.4492935982947064e-16\n",
      "math.tanh(z)      :  0.9999930253396107\n",
      "math.nan          :  nan\n",
      "math.isnan(x)     :  True\n",
      "math.inf          :  inf\n",
      "math.isinf(x)     :  True\n"
     ]
    }
   ],
   "source": [
    "# Using math library\n",
    "import math\n",
    "\n",
    "x = 5\n",
    "print('math.sqrt(x)      : ',math.sqrt(x))      # sqrt(4) = 2\n",
    "print('math.pow(x,2)     : ',math.pow(x,2))     # 4**2 = 16\n",
    "print('math.exp(x)       : ',math.exp(x))       # exp(4) = 54.6\n",
    "print('math.log(x,2)     : ',math.log(x,2))     # log based 2  (default is natural logarithm)\n",
    "print('math.fabs(-4)     : ',math.fabs(-4))     # absolute value\n",
    "print('math.factorial(x) : ',math.factorial(x)) # 4! = 4 x 3 x 2 x 1 = 24\n",
    "\n",
    "z = 0.5\n",
    "print('math.ceil(z)      : ',math.ceil(z))      # ceiling function\n",
    "print('math.floor(z)     : ',math.floor(z))     # floor function\n",
    "print('math.trunc(z)     : ',math.trunc(z))     # truncate function\n",
    "\n",
    "z = 2*math.pi            # math.pi = 3.141592653589793 \n",
    "print('math.pi           : ',math.pi)\n",
    "print('2*math.pi         : ',2*math.pi )\n",
    "print('math.sin(z)       :  ',math.sin(z))       # sine function\n",
    "print('math.tanh(z)      : ',math.tanh(z))      # arctan function\n",
    "\n",
    "x = math.nan             # not a number\n",
    "print('math.nan          : ',math.nan)\n",
    "print('math.isnan(x)     : ',math.isnan(x))\n",
    "\n",
    "x = math.inf             # infinity\n",
    "print('math.inf          : ',math.inf)\n",
    "print('math.isinf(x)     : ',math.isinf(x))"
   ]
  },
  {
   "cell_type": "code",
   "execution_count": 16,
   "metadata": {},
   "outputs": [
    {
     "name": "stdout",
     "output_type": "stream",
     "text": [
      "y1 and y2     :  False\n",
      "y1 or y2      :  True\n",
      "y1 and not y2 :  True\n"
     ]
    }
   ],
   "source": [
    "# Boolean Operations\n",
    "y1 = True\n",
    "y2 = False\n",
    "\n",
    "print('y1 and y2     : ',y1 and y2)       # logical AND\n",
    "print('y1 or y2      : ',y1 or y2)        # logical OR\n",
    "print('y1 and not y2 : ',y1 and not y2)   # logical NOT"
   ]
  },
  {
   "cell_type": "code",
   "execution_count": 17,
   "metadata": {},
   "outputs": [
    {
     "name": "stdout",
     "output_type": "stream",
     "text": [
      "s1[1:]     :  his\n",
      "len(s1)    :  4\n",
      "Length of string is 4\n",
      "s1.upper() :  THIS\n",
      "s1.lower() :  this\n",
      "words[0]                      :  This\n",
      "s2.replace(a,another) :  This is another string\n",
      "s2.replace(is,at)     :  That at a string\n",
      "s2.find(\"a\")                  :  8\n",
      "s1 in s2                      :  True\n",
      "s1 == This :  True\n",
      "s1 < That  :  False\n",
      "s2 + \" too\"    :  This is a string too\n",
      "(s1 + \" \")* 3  :  This This This \n"
     ]
    }
   ],
   "source": [
    "# String Operations\n",
    "s1 = \"This\"\n",
    "\n",
    "print('s1[1:]     : ',s1[1:])                    # print last three characters \n",
    "print('len(s1)    : ',len(s1))                               # get the string length\n",
    "print(\"Length of string is \" + str(len(s1))) # type casting int to str\n",
    "print('s1.upper() : ',s1.upper())                            # convert to upper case\n",
    "print('s1.lower() : ',s1.lower())                            # convert to lower case\n",
    "\n",
    "s2 = \"This is a string\"\n",
    "words = s2.split(' ')             # split the string into words\n",
    "print('words[0]                      : ',words[0])\n",
    "print('s2.replace(''a'',''another'') : ',s2.replace('a','another'))  # replace \"a\" with \"another\"\n",
    "print('s2.replace(''is'',''at'')     : ',s2.replace('is','at'))      # replace \"is\" with \"at\"\n",
    "print('s2.find(\"a\")                  : ',s2.find(\"a\"))               # find the position of \"a\" in s2\n",
    "print('s1 in s2                      : ',s1 in s2)                   # check if s1 is a substring of s2\n",
    "\n",
    "print('s1 == ''This'' : ',s1 == 'This')               # equality comparison\n",
    "print('s1 < ''That''  : ', s1 < 'That')                # inequality comparison\n",
    "print('s2 + \" too\"    : ',s2 + \" too\")                # string concatenation\n",
    "print('(s1 + \" \")* 3  : ',(s1 + \" \")* 3)              # replicate the string 3 times"
   ]
  },
  {
   "cell_type": "markdown",
   "metadata": {},
   "source": [
    "## 3) Compound Data Types"
   ]
  },
  {
   "cell_type": "code",
   "execution_count": 20,
   "metadata": {
    "scrolled": true
   },
   "outputs": [
    {
     "name": "stdout",
     "output_type": "stream",
     "text": [
      "type(intlist) :  <class 'list'>\n",
      "intlist  :  [1, 2, 3, 4, 5]\n",
      "intlist2 :  [0, 2, 4, 6, 8]\n",
      "intlist[2]   :  3\n",
      "intlist[:2]  :  [1, 2]\n",
      "intlist[2:]  :  [3, 4, 5]\n",
      "len(intlist) :  5\n",
      "sum(intlist) :  15\n",
      "intlist       :  [1, 2, 3, 4, 5, 11]\n",
      "intlist.pop() :  11\n",
      "intlist       :  [1, 2, 3, 4, 5]\n",
      "intlist + [11,13,15] :  [1, 2, 3, 4, 5, 11, 13, 15]\n",
      "intlist * 3   :  [1, 2, 3, 4, 5, 1, 2, 3, 4, 5, 1, 2, 3, 4, 5]\n",
      "intlist.insert(2,4)        :  [1, 2, 4, 3, 4, 5]\n",
      "intlist.sort(reverse=Flase) :  [1, 2, 3, 4, 4, 5]\n"
     ]
    }
   ],
   "source": [
    "# List Object []\n",
    "intlist = [1, 2, 3, 4, 5]\n",
    "print('type(intlist) : ',type(intlist))\n",
    "print('intlist  : ',intlist)\n",
    "intlist2 = list(range(0,10,2))   # range[startvalue, endvalue, stepsize]\n",
    "print('intlist2 : ',intlist2)\n",
    "\n",
    "print('intlist[2]   : ',intlist[2])                # get the third element of the list\n",
    "print('intlist[:2]  : ',intlist[:2])               # get the first two elements\n",
    "print('intlist[2:]  : ',intlist[2:])               # get the last three elements of the list\n",
    "print('len(intlist) : ',len(intlist))              # get the number of elements in the list\n",
    "print('sum(intlist) : ',sum(intlist))              # sums up elements of the list\n",
    "\n",
    "intlist.append(11)               # insert 11 to end of the list\n",
    "print('intlist       : ',intlist)\n",
    "print('intlist.pop() : ',intlist.pop())             # remove last element of the list\n",
    "print('intlist       : ',intlist)\n",
    "print('intlist + [11,13,15] : ',intlist + [11,13,15])      # concatenate two lists\n",
    "print('intlist * 3   : ',intlist * 3)               # replicate the list\n",
    "intlist.insert(2,4)              # insert item 4 at index 2  \n",
    "print('intlist.insert(2,4)        : ',intlist)\n",
    "intlist.sort(reverse=False)       # sort elements in descending order\n",
    "print('intlist.sort(reverse=Flase) : ',intlist)"
   ]
  },
  {
   "cell_type": "code",
   "execution_count": 21,
   "metadata": {},
   "outputs": [
    {
     "name": "stdout",
     "output_type": "stream",
     "text": [
      "mylist       :  ['this', 'is', 'a', 'list']\n",
      "type(mylist) :  <class 'list'>\n",
      "\"list\" in mylist :  True\n",
      "mylist[2]  :  a\n",
      "mylist[:2] :  ['this', 'is']\n",
      "mylist[2:] :  ['a', 'list']\n",
      "separator.join(mylist) :  this is a list too\n",
      "mylist.remove(\"is\") : ['this', 'a', 'list', 'too']\n"
     ]
    }
   ],
   "source": [
    "mylist = ['this', 'is', 'a', 'list']\n",
    "print('mylist       : ',mylist)\n",
    "print('type(mylist) : ',type(mylist))\n",
    "\n",
    "print('\"list\" in mylist : ',\"list\" in mylist)          # check whether \"list\" is in mylist\n",
    "print('mylist[2]  : ',mylist[2])                 # show the 3rd element of the list\n",
    "print('mylist[:2] : ',mylist[:2])                # show the first two elements of the list\n",
    "print('mylist[2:] : ',mylist[2:])                # show the last two elements of the list\n",
    "mylist.append(\"too\")             # insert element to end of the list\n",
    "\n",
    "separator = \" \"\n",
    "print('separator.join(mylist) : ',separator.join(mylist))    # merge all elements of the list into a string\n",
    "\n",
    "mylist.remove(\"is\")              # remove element from list\n",
    "print('mylist.remove(\"is\") :',mylist)"
   ]
  },
  {
   "cell_type": "code",
   "execution_count": 22,
   "metadata": {},
   "outputs": [
    {
     "name": "stdout",
     "output_type": "stream",
     "text": [
      "abbrev          :  {'BKK': 'Suvarnabhumi', 'KIX': 'Kansai', 'JFK': 'John F. Kennedy', 'KUL': 'Kuala Lumpur'}\n",
      "abbrev.keys()   :  dict_keys(['BKK', 'KIX', 'JFK', 'KUL'])\n",
      "abbrev.values() :  dict_values(['Suvarnabhumi', 'Kansai', 'John F. Kennedy', 'Kuala Lumpur'])\n",
      "len(abbrev)     :  4\n",
      "abbrev.get(KIX) :  Kansai\n",
      "\"JFK\" in abbrev     :  True\n",
      "\"BKK\" in abbrev     :  True\n",
      "fruits         :  {'apples': 3, 'oranges': 4, 'bananas': 2, 'cherries': 10}\n",
      "sorted(fruits) :  ['apples', 'bananas', 'cherries', 'oranges']\n",
      "Sort by key   :  [('apples', 3), ('bananas', 2), ('cherries', 10), ('oranges', 4)]\n",
      "Sort by value :  [('bananas', 2), ('apples', 3), ('oranges', 4), ('cherries', 10)]\n"
     ]
    }
   ],
   "source": [
    "# Dictionary Object {}\n",
    "abbrev = {}\n",
    "abbrev['BKK'] = \"Suvarnabhumi\"\n",
    "abbrev['KIX'] = \"Kansai\"\n",
    "abbrev['JFK'] = \"John F. Kennedy\"\n",
    "abbrev['KUL'] = \"Kuala Lumpur\"\n",
    "\n",
    "\n",
    "print('abbrev          : ',abbrev)\n",
    "print('abbrev.keys()   : ',abbrev.keys())            # get the keys of the dictionary\n",
    "print('abbrev.values() : ',abbrev.values())          # get the values of the dictionary\n",
    "print('len(abbrev)     : ',len(abbrev))              # get number of key-value pairs\n",
    "\n",
    "print('abbrev.get(''KIX'') : ',abbrev.get('KIX'))\n",
    "print('\"JFK\" in abbrev     : ',\"JFK\" in abbrev)\n",
    "print('\"BKK\" in abbrev     : ',\"BKK\" in abbrev)\n",
    "\n",
    "keys = ['apples', 'oranges', 'bananas', 'cherries']\n",
    "values = [3, 4, 2, 10]\n",
    "fruits = dict(zip(keys, values))\n",
    "print('fruits         : ',fruits)\n",
    "print('sorted(fruits) : ',sorted(fruits))     # sort keys of dictionary\n",
    "\n",
    "from operator import itemgetter\n",
    "print('Sort by key   : ',sorted(fruits.items(), key=itemgetter(0)))    # sort by key of dictionary\n",
    "print('Sort by value : ',sorted(fruits.items(), key=itemgetter(1)))    # sort by value of dictionary"
   ]
  },
  {
   "cell_type": "code",
   "execution_count": 23,
   "metadata": {},
   "outputs": [
    {
     "name": "stdout",
     "output_type": "stream",
     "text": [
      "BKKtuple     :  ('BKK', 'Suvarnabhumi', 'Bangkok')\n",
      "BKKtuple[1:] :  ('Suvarnabhumi', 'Bangkok')\n",
      "airports        :  [('BKK', 'Suvarnabhumi', 'Bangkok'), ('KIX', 'Kansai', 'Osaka'), ('JFK', 'John F. Kennedy', 'New York')]\n",
      "airports[2]     :  ('JFK', 'John F. Kennedy', 'New York')\n",
      "airports[2][:]  :  ('JFK', 'John F. Kennedy', 'New York')\n",
      "airports[2][1:] :  ('John F. Kennedy', 'New York')\n",
      "Sort by cities :  [('BKK', 'Suvarnabhumi', 'Bangkok'), ('JFK', 'John F. Kennedy', 'New York'), ('KIX', 'Kansai', 'Osaka')]\n"
     ]
    }
   ],
   "source": [
    "# Tuple Object ()\n",
    "BKKtuple = ('BKK', 'Suvarnabhumi', 'Bangkok')\n",
    "KIXtuple = ('KIX', 'Kansai', 'Osaka')\n",
    "JFKtuple = ('JFK', 'John F. Kennedy', 'New York')\n",
    "\n",
    "print('BKKtuple     : ',BKKtuple)\n",
    "print('BKKtuple[1:] : ',BKKtuple[1:])\n",
    "\n",
    "airports = [BKKtuple, KIXtuple, JFKtuple]    # this will create a list of tuples\n",
    "print('airports        : ',airports)\n",
    "print('airports[2]     : ',airports[2])\n",
    "print('airports[2][:]  : ',airports[2][:])\n",
    "print('airports[2][1:] : ',airports[2][1:])\n",
    "\n",
    "airports.sort(key=lambda airports: airports[2])  # sort the states by their capital cities\n",
    "print('Sort by cities : ',airports)"
   ]
  },
  {
   "cell_type": "markdown",
   "metadata": {},
   "source": [
    "## 4) Condition"
   ]
  },
  {
   "cell_type": "code",
   "execution_count": 29,
   "metadata": {},
   "outputs": [
    {
     "name": "stdout",
     "output_type": "stream",
     "text": [
      "x = 0 is even\n"
     ]
    }
   ],
   "source": [
    "# using if-else statement\n",
    "\n",
    "x = 0\n",
    "\n",
    "if x % 2 == 0:\n",
    "    print(\"x =\", x, \"is even\")\n",
    "else:\n",
    "    print(\"x =\", x, \"is odd\")"
   ]
  },
  {
   "cell_type": "code",
   "execution_count": 30,
   "metadata": {},
   "outputs": [
    {
     "name": "stdout",
     "output_type": "stream",
     "text": [
      "x = 0 is neither positive nor negative\n"
     ]
    }
   ],
   "source": [
    "if x > 0:\n",
    "    print(\"x =\", x, \"is positive\")\n",
    "elif x < 0:\n",
    "    print(\"x =\", x, \"is negative\")\n",
    "else:\n",
    "    print(\"x =\", x, \"is neither positive nor negative\")"
   ]
  },
  {
   "cell_type": "markdown",
   "metadata": {},
   "source": [
    "## 5) Loop"
   ]
  },
  {
   "cell_type": "code",
   "execution_count": 32,
   "metadata": {},
   "outputs": [
    {
     "name": "stdout",
     "output_type": "stream",
     "text": [
      "word.replace(\"is\", \"at\") :  that\n",
      "word.replace(\"is\", \"at\") :  at\n",
      "word.replace(\"is\", \"at\") :  a\n",
      "word.replace(\"is\", \"at\") :  latt\n",
      "mylist2 :  [4, 2, 1, 4]\n",
      "sorted_cities :  ['Bangkok', 'New York', 'Osaka']\n",
      "fruitnames :  ['apples', 'oranges', 'bananas', 'cherries']\n"
     ]
    }
   ],
   "source": [
    "# using for loop with a list\n",
    "\n",
    "mylist = ['this', 'is', 'a', 'list']\n",
    "for word in mylist:\n",
    "    print('word.replace(\"is\", \"at\") : ',word.replace(\"is\", \"at\"))\n",
    "    \n",
    "mylist2 = [len(word) for word in mylist]   # number of characters in each word\n",
    "print('mylist2 : ',mylist2)\n",
    "\n",
    "# using for loop with list of tuples\n",
    "\n",
    "airports = [('BKK', 'Suvarnabhumi', 'Bangkok'),('KIX', 'Kansai', 'Osaka'),\n",
    "          ('JFK', 'John F. Kennedy', 'New York')]\n",
    "\n",
    "sorted_cities= [airport[2] for airport in airports]\n",
    "sorted_cities.sort()\n",
    "print('sorted_cities : ',sorted_cities)\n",
    "\n",
    "# using for loop with dictionary\n",
    "\n",
    "fruits = {'apples': 3, 'oranges': 4, 'bananas': 2, 'cherries': 10}\n",
    "fruitnames = [k for (k,v) in fruits.items()]\n",
    "print('fruitnames : ',fruitnames)"
   ]
  },
  {
   "cell_type": "code",
   "execution_count": 33,
   "metadata": {},
   "outputs": [
    {
     "name": "stdout",
     "output_type": "stream",
     "text": [
      "mylist :  [-10, -9, -8, -7, -6, -5, -4, -3, -2, -1, 0, 1, 2, 3, 4, 5, 6, 7, 8, 9]\n",
      "First non-negative number: 0\n"
     ]
    }
   ],
   "source": [
    "# using while loop\n",
    "\n",
    "mylist = list(range(-10,10))\n",
    "print('mylist : ',mylist)\n",
    "\n",
    "i = 0\n",
    "while (mylist[i] < 0):\n",
    "    i = i + 1\n",
    "    \n",
    "print(\"First non-negative number:\", mylist[i])"
   ]
  },
  {
   "cell_type": "markdown",
   "metadata": {},
   "source": [
    "## 6) Functions"
   ]
  },
  {
   "cell_type": "code",
   "execution_count": 34,
   "metadata": {},
   "outputs": [
    {
     "name": "stdout",
     "output_type": "stream",
     "text": [
      "myfunc(2) :  11\n"
     ]
    }
   ],
   "source": [
    "myfunc = lambda x: 3*x**2 - 2*x + 3      # example of an unnamed quadratic function\n",
    "\n",
    "print('myfunc(2) : ',myfunc(2))"
   ]
  },
  {
   "cell_type": "code",
   "execution_count": 35,
   "metadata": {},
   "outputs": [
    {
     "name": "stdout",
     "output_type": "stream",
     "text": [
      "discard(mylist,True) :  [-11, 12, 23, 45, 71]\n"
     ]
    }
   ],
   "source": [
    "import math\n",
    "\n",
    "# The following function will discard missing values from a list\n",
    "def discard(inlist, sortFlag=False):    # default value for sortFlag is False \n",
    "    outlist = []\n",
    "    for item in inlist:\n",
    "        if not math.isnan(item):\n",
    "            outlist.append(item)\n",
    "            \n",
    "    if sortFlag:\n",
    "        outlist.sort()\n",
    "    return outlist\n",
    "\n",
    "mylist = [12, math.nan, 23, -11, 45, math.nan, 71]\n",
    "\n",
    "print('discard(mylist,True) : ',discard(mylist,True))    "
   ]
  },
  {
   "cell_type": "markdown",
   "metadata": {},
   "source": [
    "## 7) File I/O"
   ]
  },
  {
   "cell_type": "code",
   "execution_count": 36,
   "metadata": {},
   "outputs": [],
   "source": [
    "airports = [('BKK', 'Suvarnabhumi', 'Bangkok'),('KIX', 'Kansai', 'Osaka'),\n",
    "          ('JFK', 'John F. Kennedy', 'New York'), ('KUL', 'Kuala Lumpur', 'Kuala Lumpur')]\n",
    "\n",
    "with open('01_airport.txt', 'w') as f:\n",
    "    f.write('\\n'.join('%s,%s,%s' % airport for airport in airports))"
   ]
  },
  {
   "cell_type": "code",
   "execution_count": 37,
   "metadata": {},
   "outputs": [
    {
     "name": "stdout",
     "output_type": "stream",
     "text": [
      "State= Suvarnabhumi ( BKK ) City: Bangkok\n",
      "\n",
      "State= Kansai ( KIX ) City: Osaka\n",
      "\n",
      "State= John F. Kennedy ( JFK ) City: New York\n",
      "\n",
      "State= Kuala Lumpur ( KUL ) City: Kuala Lumpur\n"
     ]
    }
   ],
   "source": [
    "with open('01_airport.txt', 'r') as f:\n",
    "    for line in f:\n",
    "        fields = line.split(sep=',')    # split each line into its respective fields\n",
    "        print('State=',fields[1],'(',fields[0],')','City:', fields[2])"
   ]
  },
  {
   "cell_type": "markdown",
   "metadata": {},
   "source": [
    "## สรุปเนื้อหา\n",
    "\n",
    "1. Basic Syntax : Indent\n",
    "\n",
    "2. Elementary Data Types : Int, Boolean, Float, String\n",
    "\n",
    "3. Compound Data Types : List, Dictionary, Tuple\n",
    "\n",
    "4. Condition : if, elif, else\n",
    "\n",
    "5. Loop : for, while\n",
    "\n",
    "6. Functions : lambda, def\n",
    "\n",
    "7. File I/O : read, write"
   ]
  }
 ],
 "metadata": {
  "kernelspec": {
   "display_name": "Python 3",
   "language": "python",
   "name": "python3"
  },
  "language_info": {
   "codemirror_mode": {
    "name": "ipython",
    "version": 3
   },
   "file_extension": ".py",
   "mimetype": "text/x-python",
   "name": "python",
   "nbconvert_exporter": "python",
   "pygments_lexer": "ipython3",
   "version": "3.8.1"
  }
 },
 "nbformat": 4,
 "nbformat_minor": 4
}
