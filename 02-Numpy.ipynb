{
 "cells": [
  {
   "cell_type": "markdown",
   "metadata": {},
   "source": [
    "# 2. Numpy Package\n",
    "\n",
    "    คือ Package พื้นฐานสำหรับการคำนวณด้านวิทยาศาสตร์ โดยมีฟังก์ชันเกี่ยวกับคณิตศาสตร์ สามารถคำนวณชุดข้อมูล Array ที่มีขนาดใหญ่และซับซ้อนได้\n",
    "    \n",
    "                                                                                    Data Science ง่าย . . by New ew ew"
   ]
  },
  {
   "cell_type": "code",
   "execution_count": 1,
   "metadata": {},
   "outputs": [
    {
     "name": "stdout",
     "output_type": "stream",
     "text": [
      "Collecting numpy\n",
      "  Using cached numpy-1.18.3-cp38-cp38-win_amd64.whl (12.8 MB)\n",
      "Installing collected packages: numpy"
     ]
    },
    {
     "name": "stderr",
     "output_type": "stream",
     "text": [
      "ERROR: seaborn 0.10.1 requires pandas>=0.22.0, which is not installed.\n"
     ]
    },
    {
     "name": "stdout",
     "output_type": "stream",
     "text": [
      "\n",
      "Successfully installed numpy-1.18.3\n"
     ]
    }
   ],
   "source": [
    "!pip install numpy"
   ]
  },
  {
   "cell_type": "markdown",
   "metadata": {},
   "source": [
    "## 1) Numpy Array"
   ]
  },
  {
   "cell_type": "code",
   "execution_count": 2,
   "metadata": {},
   "outputs": [
    {
     "name": "stdout",
     "output_type": "stream",
     "text": [
      "oneDim :  [1. 2. 3. 4. 5.]\n",
      "#Dimensions = 1\n",
      "Dimension = (5,)\n",
      "Size = 5\n",
      "Array type = float64\n",
      "twoDim :  [[1 2]\n",
      " [3 4]\n",
      " [5 6]\n",
      " [7 8]]\n",
      "#Dimensions = 2\n",
      "Dimension = (4, 2)\n",
      "Size = 8\n",
      "Array type = int32\n",
      "arrFromTuple :  [['1' 'a' '3.0']\n",
      " ['2' 'b' '3.5']]\n",
      "#Dimensions = 2\n",
      "Dimension = (2, 3)\n",
      "Size = 6\n"
     ]
    }
   ],
   "source": [
    "# Create numpy array\n",
    "import numpy as np\n",
    "\n",
    "oneDim = np.array([1.0,2,3,4,5])   # a 1-dimensional array (vector)\n",
    "print(\"oneDim : \",oneDim)\n",
    "print(\"#Dimensions =\", oneDim.ndim)\n",
    "print(\"Dimension =\", oneDim.shape)\n",
    "print(\"Size =\", oneDim.size)\n",
    "print(\"Array type =\", oneDim.dtype)\n",
    "\n",
    "twoDim = np.array([[1,2],[3,4],[5,6],[7,8]])  # a two-dimensional array (matrix)\n",
    "print(\"twoDim : \",twoDim)\n",
    "print(\"#Dimensions =\", twoDim.ndim)\n",
    "print(\"Dimension =\", twoDim.shape)\n",
    "print(\"Size =\", twoDim.size)\n",
    "print(\"Array type =\", twoDim.dtype)\n",
    "\n",
    "arrFromTuple = np.array([(1,'a',3.0),(2,'b',3.5)])  # create ndarray from tuple\n",
    "print(\"arrFromTuple : \",arrFromTuple)\n",
    "print(\"#Dimensions =\", arrFromTuple.ndim)\n",
    "print(\"Dimension =\", arrFromTuple.shape)\n",
    "print(\"Size =\", arrFromTuple.size)"
   ]
  },
  {
   "cell_type": "code",
   "execution_count": 3,
   "metadata": {},
   "outputs": [
    {
     "name": "stdout",
     "output_type": "stream",
     "text": [
      "np.random.rand(5) :  [0.01359692 0.94072369 0.25063937 0.18662095 0.5763899 ]\n",
      "np.random.randn(5) :  [-0.99058541 -0.54949384 -1.63431857 -0.97371107  1.34424189]\n",
      "np.arange(-10,10,2) :  [-10  -8  -6  -4  -2   0   2   4   6   8]\n",
      "np.arange(12).reshape(3,4) :  [[ 0  1  2  3]\n",
      " [ 4  5  6  7]\n",
      " [ 8  9 10 11]]\n",
      "np.linspace(0,1,10) :  [0.         0.11111111 0.22222222 0.33333333 0.44444444 0.55555556\n",
      " 0.66666667 0.77777778 0.88888889 1.        ]\n",
      "np.logspace(-3,3,7) :  [1.e-03 1.e-02 1.e-01 1.e+00 1.e+01 1.e+02 1.e+03]\n"
     ]
    }
   ],
   "source": [
    "print(\"np.random.rand(5) : \",np.random.rand(5))      # random numbers from a uniform distribution between [0,1]\n",
    "print(\"np.random.randn(5) : \",np.random.randn(5))     # random numbers from a normal distribution\n",
    "print(\"np.arange(-10,10,2) : \",np.arange(-10,10,2))    # similar to range, but returns ndarray instead of list\n",
    "print(\"np.arange(12).reshape(3,4) : \",np.arange(12).reshape(3,4))  # reshape to a matrix\n",
    "print(\"np.linspace(0,1,10) : \",np.linspace(0,1,10))    # split interval [0,1] into 10 equally separated values\n",
    "print(\"np.logspace(-3,3,7) : \",np.logspace(-3,3,7))    # create ndarray with values from 10^-3 to 10^3"
   ]
  },
  {
   "cell_type": "code",
   "execution_count": 4,
   "metadata": {},
   "outputs": [
    {
     "name": "stdout",
     "output_type": "stream",
     "text": [
      "np.zeros((2,3)) :  [[0. 0. 0.]\n",
      " [0. 0. 0.]]\n",
      "np.ones((3,2)) :  [[1. 1.]\n",
      " [1. 1.]\n",
      " [1. 1.]]\n",
      "np.eye(3) :  [[1. 0. 0.]\n",
      " [0. 1. 0.]\n",
      " [0. 0. 1.]]\n"
     ]
    }
   ],
   "source": [
    "print(\"np.zeros((2,3)) : \",np.zeros((2,3)))        # a matrix of zeros\n",
    "print(\"np.ones((3,2)) : \",np.ones((3,2)))         # a matrix of ones\n",
    "print(\"np.eye(3) : \",np.eye(3))              # a 3 x 3 identity matrix"
   ]
  },
  {
   "cell_type": "markdown",
   "metadata": {},
   "source": [
    "## 2) Element-wise Operations"
   ]
  },
  {
   "cell_type": "code",
   "execution_count": 5,
   "metadata": {},
   "outputs": [
    {
     "name": "stdout",
     "output_type": "stream",
     "text": [
      "x + 1 :  [2 3 4 5 6]\n",
      "x - 1 :  [0 1 2 3 4]\n",
      "x * 2 :  [ 2  4  6  8 10]\n",
      "1 / x :  [1.         0.5        0.33333333 0.25       0.2       ]\n",
      "x // 2 :  [0 1 1 2 2]\n",
      "x ** 2 :  [ 1  4  9 16 25]\n",
      "x % 2 :  [1 0 1 0 1]\n"
     ]
    }
   ],
   "source": [
    "x = np.array([1,2,3,4,5])\n",
    "\n",
    "print(\"x + 1 : \",x + 1)      # addition\n",
    "print(\"x - 1 : \",x - 1)      # subtraction\n",
    "print(\"x * 2 : \",x * 2)      # multiplication\n",
    "print(\"1 / x : \",1 / x)      # division\n",
    "print(\"x // 2 : \",x // 2)     # integer division\n",
    "print(\"x ** 2 : \",x ** 2)     # square\n",
    "print(\"x % 2 : \",x % 2)      # modulo  "
   ]
  },
  {
   "cell_type": "code",
   "execution_count": 6,
   "metadata": {},
   "outputs": [
    {
     "name": "stdout",
     "output_type": "stream",
     "text": [
      "x + y :  [ 3  6  9 12 15]\n",
      "x - y :  [1 2 3 4 5]\n",
      "x * y :  [ 2  8 18 32 50]\n",
      "x / y :  [2. 2. 2. 2. 2.]\n",
      "x // y :  [2 2 2 2 2]\n",
      "x ** y :  [     2     16    216   4096 100000]\n"
     ]
    }
   ],
   "source": [
    "x = np.array([2,4,6,8,10])\n",
    "y = np.array([1,2,3,4,5])\n",
    "\n",
    "print(\"x + y : \",x + y)\n",
    "print(\"x - y : \",x - y)\n",
    "print(\"x * y : \",x * y)\n",
    "print(\"x / y : \",x / y)\n",
    "print(\"x // y : \",x // y)\n",
    "print(\"x ** y : \",x ** y)"
   ]
  },
  {
   "cell_type": "markdown",
   "metadata": {},
   "source": [
    "## 3) Indexing and Slicing"
   ]
  },
  {
   "cell_type": "code",
   "execution_count": 8,
   "metadata": {},
   "outputs": [
    {
     "name": "stdout",
     "output_type": "stream",
     "text": [
      "x :  [-5 -4 -3 -2 -1  0  1  2  3  4]\n",
      "x[2] :  -3\n",
      "y :  [-2 -1]\n",
      "y :  [1000 1000]\n",
      "x :  [  -5   -4   -3 1000 1000    0    1    2    3    4]\n",
      "z :  [1000 1000]\n",
      "z :  [500 500]\n",
      "x :  [  -5   -4   -3 1000 1000    0    1    2    3    4]\n"
     ]
    }
   ],
   "source": [
    "# Indexing : Select certain elements\n",
    "x = np.arange(-5,5)\n",
    "print(\"x : \",x)\n",
    "\n",
    "print(\"x[2] : \",x[2])\n",
    "\n",
    "y = x[3:5]     # y is a slice, i.e., pointer to a subarray in x\n",
    "print(\"y : \",y)\n",
    "y[:] = 1000    # modifying the value of y will change x\n",
    "print(\"y : \",y)\n",
    "print(\"x : \",x)\n",
    "\n",
    "z = x[3:5].copy()   # makes a copy of the subarray\n",
    "print(\"z : \",z)\n",
    "z[:] = 500          # modifying the value of z will not affect x\n",
    "print(\"z : \",z)\n",
    "print(\"x : \",x)"
   ]
  },
  {
   "cell_type": "code",
   "execution_count": 9,
   "metadata": {},
   "outputs": [
    {
     "name": "stdout",
     "output_type": "stream",
     "text": [
      "my2dlist       :  [[1, 2, 3, 4], [5, 6, 7, 8], [9, 10, 11, 12]]\n",
      "my2dlist[2]    :  [9, 10, 11, 12]\n",
      "my2dlist[:][2] :  [9, 10, 11, 12]\n",
      "my2darr       :  [[ 1  2  3  4]\n",
      " [ 5  6  7  8]\n",
      " [ 9 10 11 12]]\n",
      "my2darr[2][:] :  [ 9 10 11 12]\n",
      "my2darr[2,:]  :  [ 9 10 11 12]\n",
      "my2darr[:][2] :  [ 9 10 11 12]\n",
      "my2darr[:,2]  :  [ 3  7 11]\n",
      "my2darr[:2,2:]:  [[3 4]\n",
      " [7 8]]\n"
     ]
    }
   ],
   "source": [
    "my2dlist = [[1,2,3,4],[5,6,7,8],[9,10,11,12]]   # a 2-dim list\n",
    "print(\"my2dlist       : \",my2dlist)\n",
    "print(\"my2dlist[2]    : \",my2dlist[2])        # access the third sublist\n",
    "print(\"my2dlist[:][2] : \",my2dlist[:][2])     # can't access third element of each sublist\n",
    "#print(my2dlist[:,2])    # this will cause syntax error\n",
    "\n",
    "my2darr = np.array(my2dlist)\n",
    "print(\"my2darr       : \",my2darr)\n",
    "print(\"my2darr[2][:] : \",my2darr[2][:])      # access the third row\n",
    "print(\"my2darr[2,:]  : \",my2darr[2,:])       # access the third row\n",
    "print(\"my2darr[:][2] : \",my2darr[:][2])      # access the third row (similar to 2d list)\n",
    "print(\"my2darr[:,2]  : \",my2darr[:,2])       # access the third column\n",
    "print(\"my2darr[:2,2:]: \",my2darr[:2,2:])     # access the first two rows & last two columns"
   ]
  },
  {
   "cell_type": "code",
   "execution_count": 10,
   "metadata": {},
   "outputs": [
    {
     "name": "stdout",
     "output_type": "stream",
     "text": [
      "my2darr :  [[ 1  2  3  4]\n",
      " [ 5  6  7  8]\n",
      " [ 9 10 11 12]]\n",
      "divBy3        :  [ 3  6  9 12]\n",
      "type(divBy3)  :  <class 'numpy.ndarray'>\n",
      "divBy3LastRow :  [[ 9 12]]\n"
     ]
    }
   ],
   "source": [
    "my2darr = np.arange(1,13,1).reshape(3,4)\n",
    "print(\"my2darr : \",my2darr)\n",
    "\n",
    "divBy3 = my2darr[my2darr % 3 == 0]\n",
    "print(\"divBy3        : \",divBy3)\n",
    "print(\"type(divBy3)  : \",type(divBy3))\n",
    "\n",
    "divBy3LastRow = my2darr[2:, my2darr[2,:] % 3 == 0]\n",
    "print(\"divBy3LastRow : \",divBy3LastRow)"
   ]
  },
  {
   "cell_type": "code",
   "execution_count": 11,
   "metadata": {},
   "outputs": [
    {
     "name": "stdout",
     "output_type": "stream",
     "text": [
      "my2darr :  [[ 1  2  3]\n",
      " [ 4  5  6]\n",
      " [ 7  8  9]\n",
      " [10 11 12]]\n",
      "my2darr[indices,:] :  [[ 7  8  9]\n",
      " [ 4  5  6]\n",
      " [ 1  2  3]\n",
      " [10 11 12]]\n",
      "my2darr[rowIndex,columnIndex]) :  [ 1  3  4  8 12]\n"
     ]
    }
   ],
   "source": [
    "my2darr = np.arange(1,13,1).reshape(4,3)\n",
    "print(\"my2darr : \",my2darr)\n",
    "\n",
    "indices = [2,1,0,3]    # selected row indices\n",
    "print(\"my2darr[indices,:] : \",my2darr[indices,:])\n",
    "\n",
    "rowIndex = [0,0,1,2,3]     # row index into my2darr\n",
    "columnIndex = [0,2,0,1,2]  # column index into my2darr\n",
    "print(\"my2darr[rowIndex,columnIndex]) : \",my2darr[rowIndex,columnIndex])"
   ]
  },
  {
   "cell_type": "markdown",
   "metadata": {},
   "source": [
    "## 4) Arithmetic and Statistical Functions"
   ]
  },
  {
   "cell_type": "code",
   "execution_count": 12,
   "metadata": {},
   "outputs": [
    {
     "name": "stdout",
     "output_type": "stream",
     "text": [
      "y :  [-1.4  0.4 -3.2  2.5  3.4]\n",
      "np.abs(y)       :  [1.4 0.4 3.2 2.5 3.4]\n",
      "np.sqrt(abs(y)) :  [1.18321596 0.63245553 1.78885438 1.58113883 1.84390889]\n",
      "np.sign(y)      :  [-1.  1. -1.  1.  1.]\n",
      "np.exp(y)       :  [ 0.24659696  1.4918247   0.0407622  12.18249396 29.96410005]\n",
      "np.sort(y)      :  [-3.2 -1.4  0.4  2.5  3.4]\n"
     ]
    }
   ],
   "source": [
    "# Build-in mathematical functions\n",
    "y = np.array([-1.4, 0.4, -3.2, 2.5, 3.4])    # generate a random vector\n",
    "print(\"y : \",y)\n",
    "\n",
    "print(\"np.abs(y)       : \",np.abs(y))          # convert to absolute values\n",
    "print(\"np.sqrt(abs(y)) : \",np.sqrt(abs(y)))    # apply square root to each element\n",
    "print(\"np.sign(y)      : \",np.sign(y))         # get the sign of each element\n",
    "print(\"np.exp(y)       : \",np.exp(y))          # apply exponentiation\n",
    "print(\"np.sort(y)      : \",np.sort(y))         # sort array"
   ]
  },
  {
   "cell_type": "code",
   "execution_count": 13,
   "metadata": {},
   "outputs": [
    {
     "name": "stdout",
     "output_type": "stream",
     "text": [
      "x :  [-2 -1  0  1  2]\n",
      "y :  [0.66664429 0.39258355 2.42049717 1.13333213 0.3926671 ]\n",
      "np.add(x,y) :  [-1.33335571 -0.60741645  2.42049717  2.13333213  2.3926671 ]\n",
      "np.subtract(x,y) :  [-2.66664429 -1.39258355 -2.42049717 -0.13333213  1.6073329 ]\n",
      "np.multiply(x,y) :  [-1.33328858 -0.39258355  0.          1.13333213  0.78533421]\n",
      "np.divide(x,y)   :  [-3.0001007  -2.54722845  0.          0.88235387  5.09337293]\n",
      "np.maximum(x,y)  :  [0.66664429 0.39258355 2.42049717 1.13333213 2.        ]\n"
     ]
    }
   ],
   "source": [
    "x = np.arange(-2,3)\n",
    "y = np.random.randn(5)\n",
    "print(\"x : \",x)\n",
    "print(\"y : \",y)\n",
    "\n",
    "print(\"np.add(x,y) : \",np.add(x,y))           # element-wise addition       x + y\n",
    "print(\"np.subtract(x,y) : \",np.subtract(x,y))      # element-wise subtraction    x - y\n",
    "print(\"np.multiply(x,y) : \",np.multiply(x,y))      # element-wise multiplication x * y\n",
    "print(\"np.divide(x,y)   : \",np.divide(x,y))        # element-wise division       x / y\n",
    "print(\"np.maximum(x,y)  : \",np.maximum(x,y))       # element-wise maximum        max(x,y)"
   ]
  },
  {
   "cell_type": "code",
   "execution_count": 14,
   "metadata": {},
   "outputs": [
    {
     "name": "stdout",
     "output_type": "stream",
     "text": [
      "y :  [-3.2 -1.4  0.4  2.5  3.4]\n",
      "Min = -3.2\n",
      "Max = 3.4\n",
      "Average = 0.34000000000000014\n",
      "Std deviation = 2.432776191925595\n",
      "Sum = 1.7000000000000006\n"
     ]
    }
   ],
   "source": [
    "y = np.array([-3.2, -1.4, 0.4, 2.5, 3.4])    # generate a random vector\n",
    "print(\"y : \",y)\n",
    "\n",
    "print(\"Min =\", np.min(y))             # min \n",
    "print(\"Max =\", np.max(y))             # max \n",
    "print(\"Average =\", np.mean(y))        # mean/average\n",
    "print(\"Std deviation =\", np.std(y))   # standard deviation\n",
    "print(\"Sum =\", np.sum(y))             # sum "
   ]
  },
  {
   "cell_type": "markdown",
   "metadata": {},
   "source": [
    "## 5) Linear algebra"
   ]
  },
  {
   "cell_type": "code",
   "execution_count": 15,
   "metadata": {},
   "outputs": [
    {
     "name": "stdout",
     "output_type": "stream",
     "text": [
      "X   :  [[ 0.11319849 -0.61061896 -0.26512575]\n",
      " [ 0.45350864  1.15835945  2.42153558]]\n",
      "X.T :  [[ 0.11319849  0.45350864]\n",
      " [-0.61061896  1.15835945]\n",
      " [-0.26512575  2.42153558]]\n",
      "y :  [-0.1397508   1.01982356  2.22548579]\n",
      "X.dot(y)   :  [-1.22857677  6.50703709]\n",
      "X.dot(X.T) :  [[ 0.45596107 -1.2979912 ]\n",
      " [-1.2979912   7.41130129]]\n",
      "X.T.dot(X) :  [[0.21848398 0.45620487 1.06817546]\n",
      " [0.45620487 1.71465213 2.96689944]\n",
      " [1.06817546 2.96689944 5.93412625]]\n"
     ]
    }
   ],
   "source": [
    "# Linear algebra function\n",
    "X = np.random.randn(2,3)    # create a 2 x 3 random matrix\n",
    "print(\"X   : \",X)\n",
    "print(\"X.T : \",X.T)             # matrix transpose operation X^T\n",
    "\n",
    "y = np.random.randn(3) # random vector \n",
    "print(\"y : \",y)\n",
    "print(\"X.dot(y)   : \",X.dot(y))        # matrix-vector multiplication  X * y\n",
    "print(\"X.dot(X.T) : \",X.dot(X.T))      # matrix-matrix multiplication  X * X^T\n",
    "print(\"X.T.dot(X) : \",X.T.dot(X))      # matrix-matrix multiplication  X^T * X"
   ]
  },
  {
   "cell_type": "code",
   "execution_count": 16,
   "metadata": {},
   "outputs": [
    {
     "name": "stdout",
     "output_type": "stream",
     "text": [
      "X :  [[-0.80409246 -2.01111405  2.30567736]\n",
      " [ 0.17630872  0.64430778 -1.33869202]\n",
      " [ 1.06303628  0.70849799  0.07299663]\n",
      " [-0.38223768 -0.1315711   0.1738208 ]\n",
      " [-0.84962649  1.42726764 -2.24743419]]\n",
      "invC :  [[ 1.04546244 -1.49446577 -1.04901199]\n",
      " [-1.49446577  3.3265487   2.34657191]\n",
      " [-1.04901199  2.34657191  1.73736376]]\n",
      "detC :  9.80006417332046\n",
      "S :  [ 2.99635682  0.17475783 18.71538427]\n",
      "U :  [[ 0.9297336   0.3636709  -0.05778332]\n",
      " [ 0.25914317 -0.75767647 -0.59897512]\n",
      " [ 0.26161088 -0.54191314  0.7986801 ]]\n"
     ]
    }
   ],
   "source": [
    "X = np.random.randn(5,3)\n",
    "print(\"X : \",X)\n",
    "\n",
    "C = X.T.dot(X)               # C = X^T * X is a square matrix\n",
    "\n",
    "invC = np.linalg.inv(C)      # inverse of a square matrix\n",
    "print(\"invC : \",invC)\n",
    "detC = np.linalg.det(C)      # determinant of a square matrix\n",
    "print(\"detC : \",detC)\n",
    "S, U = np.linalg.eig(C)      # eigenvalue S and eigenvector U of a square matrix\n",
    "print(\"S : \",S)\n",
    "print(\"U : \",U)"
   ]
  },
  {
   "cell_type": "markdown",
   "metadata": {},
   "source": [
    "## 6) Broadcasting"
   ]
  },
  {
   "cell_type": "code",
   "execution_count": 17,
   "metadata": {},
   "outputs": [
    {
     "name": "stdout",
     "output_type": "stream",
     "text": [
      "A : \n",
      " [[ 0  0  0]\n",
      " [10 10 10]\n",
      " [20 20 20]\n",
      " [30 30 30]]\n",
      "Shape of A = (4, 3)\n",
      "B : \n",
      " [[0 1 2]\n",
      " [0 1 2]\n",
      " [0 1 2]\n",
      " [0 1 2]]\n",
      "Shape of B = (4, 3)\n",
      "A+B : \n",
      " [[ 0  1  2]\n",
      " [10 11 12]\n",
      " [20 21 22]\n",
      " [30 31 32]]\n",
      "Shape of A + B = (4, 3)\n"
     ]
    }
   ],
   "source": [
    "import numpy as np\n",
    "A = np.array([[0,0,0],[10,10,10],[20,20,20],[30,30,30]])\n",
    "B = np.array([[0,1,2],[0,1,2],[0,1,2],[0,1,2]])\n",
    "print(\"A : \\n\", A)\n",
    "print(str(\"Shape of A = \")+str(A.shape))\n",
    "print(\"B : \\n\", B)\n",
    "print(str(\"Shape of B = \")+str(B.shape))\n",
    "print(\"A+B : \\n\", A+B)\n",
    "print(str(\"Shape of A + B = \")+str((A+B).shape))"
   ]
  },
  {
   "cell_type": "code",
   "execution_count": 18,
   "metadata": {},
   "outputs": [
    {
     "name": "stdout",
     "output_type": "stream",
     "text": [
      "A : \n",
      " [[ 0  0  0]\n",
      " [10 10 10]\n",
      " [20 20 20]\n",
      " [30 30 30]]\n",
      "Shape of A = (4, 3)\n",
      "B : \n",
      " [0 1 2]\n",
      "Shape of B = (3,)\n",
      "A+B : \n",
      " [[ 0  1  2]\n",
      " [10 11 12]\n",
      " [20 21 22]\n",
      " [30 31 32]]\n",
      "Shape of A + B = (4, 3)\n"
     ]
    }
   ],
   "source": [
    "import numpy as np\n",
    "A = np.array([[0,0,0],[10,10,10],[20,20,20],[30,30,30]])\n",
    "B = np.array([0,1,2])\n",
    "print(\"A : \\n\", A)\n",
    "print(str(\"Shape of A = \")+str(A.shape))\n",
    "print(\"B : \\n\", B)\n",
    "print(str(\"Shape of B = \")+str(B.shape))\n",
    "print(\"A+B : \\n\", A+B)\n",
    "print(str(\"Shape of A + B = \")+str((A+B).shape))"
   ]
  },
  {
   "cell_type": "code",
   "execution_count": 19,
   "metadata": {
    "scrolled": true
   },
   "outputs": [
    {
     "name": "stdout",
     "output_type": "stream",
     "text": [
      "A : \n",
      " [[ 0]\n",
      " [10]\n",
      " [20]\n",
      " [30]]\n",
      "Shape of A = (4, 1)\n",
      "B : \n",
      " [0 1 2]\n",
      "Shape of B = (3,)\n",
      "A+B : \n",
      " [[ 0  1  2]\n",
      " [10 11 12]\n",
      " [20 21 22]\n",
      " [30 31 32]]\n",
      "Shape of A + B = (4, 3)\n"
     ]
    }
   ],
   "source": [
    "import numpy as np\n",
    "A = np.array([[0],[10],[20],[30]])\n",
    "B = np.array([0,1,2])\n",
    "print(\"A : \\n\", A)\n",
    "print(str(\"Shape of A = \")+str(A.shape))\n",
    "print(\"B : \\n\", B)\n",
    "print(str(\"Shape of B = \")+str(B.shape))\n",
    "print(\"A+B : \\n\", A+B)\n",
    "print(str(\"Shape of A + B = \")+str((A+B).shape))"
   ]
  },
  {
   "cell_type": "markdown",
   "metadata": {},
   "source": [
    "## สรุปเนื้อหา\n",
    "\n",
    "1. Numpy Array : np.array([1.0,2,3,4,5])\n",
    "\n",
    "2. Element-wise Operations : +, -, *, /, //, **, %\n",
    "\n",
    "3. Indexing and Slicing : x[3], x[3:5]\n",
    "\n",
    "4. Arithmetic and Statistical : np.abs(x), np.sqrt(x), np.sign(x), np.exp(x), np.sort(x), np.add(x,y), np.subtract(x,y), np.multiply(x,y), np.divide(x,y), np.maximum(x,y), np.min(x), np.max(x),np.mean(), np.std(x), np.sum(x)\n",
    "\n",
    "5. Linear Algebra : X.T, X.dot(x), np.linalg.inv(x), np.linalg.det(x), np.linalg.eig(x)\n",
    "\n",
    "6. Broadcasting"
   ]
  }
 ],
 "metadata": {
  "kernelspec": {
   "display_name": "Python 3",
   "language": "python",
   "name": "python3"
  },
  "language_info": {
   "codemirror_mode": {
    "name": "ipython",
    "version": 3
   },
   "file_extension": ".py",
   "mimetype": "text/x-python",
   "name": "python",
   "nbconvert_exporter": "python",
   "pygments_lexer": "ipython3",
   "version": "3.8.1"
  }
 },
 "nbformat": 4,
 "nbformat_minor": 4
}
